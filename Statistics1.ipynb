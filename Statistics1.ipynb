{
 "cells": [
  {
   "cell_type": "code",
   "execution_count": 2,
   "id": "e405a53d-eac4-4f27-a8f6-6b57f3664bd7",
   "metadata": {},
   "outputs": [],
   "source": [
    "# 1.Ans\n",
    "# Statistics is the science of collecting ,organizing and analyzing data."
   ]
  },
  {
   "cell_type": "code",
   "execution_count": 6,
   "id": "a12c98aa-1d38-49c5-b08b-7d8cb0a4ff1e",
   "metadata": {},
   "outputs": [],
   "source": [
    "# 2.Ans\n",
    "# There are two types of statistics :-\n",
    "# 1.Descriptive : It consists of organinizing and summarizing the data.It is used when we have to get summary of the data. \n",
    "# 2.Inferential : It consists of using data you measured to get conclusions."
   ]
  },
  {
   "cell_type": "code",
   "execution_count": 8,
   "id": "0d0375ec-54aa-432d-94a8-f76943a0c036",
   "metadata": {},
   "outputs": [],
   "source": [
    "#3.Ans\n",
    "# There are 2 Categories of data:-\n",
    "# 1.Quantitative Data:That contains numerical data that can me measured.Ex: max speed of a diifferent cars in a race.\n",
    "# 2.Qualitative Data:It is Categorical Data.Ex: Ranking of students in a class."
   ]
  },
  {
   "cell_type": "code",
   "execution_count": 9,
   "id": "0ec246d0-a285-456b-a94b-a52d8959a5cf",
   "metadata": {},
   "outputs": [],
   "source": [
    "# 4.Ans\n",
    "# 1. Qualitative\n",
    "# 2. Qualitative\n",
    "# 3. Quantitaive\n",
    "# 4. Quantitaive"
   ]
  },
  {
   "cell_type": "code",
   "execution_count": 10,
   "id": "2e1a9248-bb62-4e50-8776-c1091aebf2a0",
   "metadata": {},
   "outputs": [],
   "source": [
    "# 5.Ans\n",
    "# For analyzing any kind of data ,we first need to define what kind of data it is, which is defined by using levels of measurement.There are 4 levels of measurement of data:-\n",
    "# 1.Nominal scale data: It's Categorical data whose order doesn't matter.Ex: color of fruits in a basket.\n",
    "# 2.Ordinal scale data: It's also categorical data but it's order is important and difference between data sets donot have any real significance.\n",
    "#3.Interval scale data: It's order matter and it's numerical data , it has a true \"0\" starting point.Ex: Temperature of a place at different days of a week.\n",
    "# 4.Ratio scale data: Order matter , Difference are meaurable and ratio has significance.It also contains a \"0\" starting point. Ex: Marks of students in a class."
   ]
  },
  {
   "cell_type": "code",
   "execution_count": 12,
   "id": "5c468772-e3e1-4b15-9a8c-21ae1550dd32",
   "metadata": {},
   "outputs": [],
   "source": [
    "# 6.Ans\n",
    "# We can analyze data better only when we know what is the type of data we have.\n",
    "# For Example, we have a data set of heights of various students in a classroom and thus we want to draw insights from it. We can do this only after realising it is a quantative data and then we can do multiple operations on it."
   ]
  },
  {
   "cell_type": "code",
   "execution_count": 13,
   "id": "6edfa5be-958f-4bc0-8e4c-e89873013567",
   "metadata": {},
   "outputs": [],
   "source": [
    "# 7.Ans\n",
    "# Ranking is important in Ordinal scale data whereas it does not in nominal scale data."
   ]
  },
  {
   "cell_type": "code",
   "execution_count": 15,
   "id": "03aa1c88-7065-4937-bbab-3161d0e714bb",
   "metadata": {},
   "outputs": [],
   "source": [
    "# 8.Ans A Histogram can be used to display data in terms of range."
   ]
  },
  {
   "cell_type": "code",
   "execution_count": 16,
   "id": "7b151a0f-036d-48ac-a384-d62df93f7b02",
   "metadata": {},
   "outputs": [],
   "source": [
    "# 9.Ans\n",
    "# There are two types of statistics :-\n",
    "# 1.Descriptive : It consists of organinizing and summarizing the data.It is used when we have to get summary of the data. \n",
    "# 2.Inferential : It consists of using data you measured to get conclusions."
   ]
  },
  {
   "cell_type": "code",
   "execution_count": 17,
   "id": "6b0ccd3a-d6b5-4d06-93c0-02d62b3dc6a8",
   "metadata": {},
   "outputs": [],
   "source": [
    "# 10.Ans\n",
    "# 1.Central Tendency: Mean ,Median ,Mode.\n",
    "# 2.Variablity: z test,t test, chi square."
   ]
  },
  {
   "cell_type": "code",
   "execution_count": null,
   "id": "7b5d1cfa-33c5-411c-b38c-f23e6ca1ec1b",
   "metadata": {},
   "outputs": [],
   "source": []
  }
 ],
 "metadata": {
  "kernelspec": {
   "display_name": "Python 3 (ipykernel)",
   "language": "python",
   "name": "python3"
  },
  "language_info": {
   "codemirror_mode": {
    "name": "ipython",
    "version": 3
   },
   "file_extension": ".py",
   "mimetype": "text/x-python",
   "name": "python",
   "nbconvert_exporter": "python",
   "pygments_lexer": "ipython3",
   "version": "3.10.8"
  }
 },
 "nbformat": 4,
 "nbformat_minor": 5
}
